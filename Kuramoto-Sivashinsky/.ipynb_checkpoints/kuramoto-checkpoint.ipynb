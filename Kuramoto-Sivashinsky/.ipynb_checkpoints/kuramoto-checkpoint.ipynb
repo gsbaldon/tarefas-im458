{
 "cells": [
  {
   "cell_type": "code",
   "execution_count": 2,
   "id": "d3a2bcf8",
   "metadata": {},
   "outputs": [],
   "source": [
    "#### %matplotlib notebook\n",
    "import numpy as np\n",
    "import matplotlib.pyplot as plt\n",
    "from matplotlib.animation import FuncAnimation\n",
    "import matplotlib as mpl\n",
    "from matplotlib.pyplot import cm"
   ]
  },
  {
   "cell_type": "code",
   "execution_count": 3,
   "id": "dd405725",
   "metadata": {},
   "outputs": [],
   "source": [
    "# Funcao para pular alguns frames\n",
    "def skipp(lista, nn):\n",
    "    ll = []\n",
    "    for ii in range(0, len(lista), int(nn)):\n",
    "        ll.append(ii)\n",
    "    return np.array(ll)"
   ]
  },
  {
   "cell_type": "code",
   "execution_count": 4,
   "id": "1d455924",
   "metadata": {},
   "outputs": [
    {
     "name": "stderr",
     "output_type": "stream",
     "text": [
      "C:\\Users\\gsbal\\AppData\\Local\\Temp\\ipykernel_144\\3270912282.py:59: RuntimeWarning: overflow encountered in square\n",
      "  u_hat2[:,j+1] = (1/nx)*np.fft.fftshift(np.fft.fft(u[:,j+1]**2))\n",
      "C:\\Users\\gsbal\\AppData\\Local\\Temp\\ipykernel_144\\3270912282.py:59: RuntimeWarning: invalid value encountered in multiply\n",
      "  u_hat2[:,j+1] = (1/nx)*np.fft.fftshift(np.fft.fft(u[:,j+1]**2))\n",
      "C:\\Users\\gsbal\\AppData\\Local\\Temp\\ipykernel_144\\3270912282.py:56: RuntimeWarning: invalid value encountered in multiply\n",
      "  u_hat[:,j+1] = (1/(1 - (dt/2)*FN))*((1 + (dt/2)*FL)*uhat_current + (((3/2)*FN)*(uhat_current2) - ((1/2)*FN)*(uhat_last2))*dt)\n"
     ]
    }
   ],
   "source": [
    "nu = 1\n",
    "L = 200 \n",
    "nx = 512\n",
    "\n",
    "t0 = 0 \n",
    "tN = int(10)\n",
    "dt = 0.25\n",
    "nt = int((tN - t0)/dt)\n",
    "\n",
    "# wave number mesh\n",
    "k = np.arange(-nx/2, nx/2, 1)\n",
    "\n",
    "t = np.linspace(start=t0, stop=tN, num=nt)\n",
    "x = np.linspace(start=0, stop=L, num=nx)\n",
    "\n",
    "# solution mesh in real space\n",
    "u = np.ones((nx, nt))\n",
    "# solution mesh in Fourier space\n",
    "u_hat = np.ones((nx, nt), dtype=complex)\n",
    "\n",
    "u_hat2 = np.ones((nx, nt), dtype=complex)\n",
    "\n",
    "# initial condition\n",
    "# u0 = np.cos((2*np.pi*x)/L) + 0.1*np.cos((4*np.pi*x)/L)\n",
    "u0 = np.cos(x/16)*(1 + np.sin(x/16))\n",
    "\n",
    "# Fourier transform of initial condition\n",
    "u0_hat = (1/nx)*np.fft.fftshift(np.fft.fft(u0))\n",
    "\n",
    "u0_hat2 = (1/nx)*np.fft.fftshift(np.fft.fft(u0**2))\n",
    "\n",
    "# set initial condition in real and Fourier mesh\n",
    "u[:,0] = u0\n",
    "u_hat[:,0] = u0_hat\n",
    "\n",
    "u_hat2[:,0] = u0_hat2\n",
    "\n",
    "# Fourier Transform of the linear operator\n",
    "FL = (((2*np.pi)/L)*k)**2 - nu*(((2*np.pi)/L)*k)**4\n",
    "# Fourier Transform of the non-linear operator\n",
    "FN = -(1/2)*((1j)*((2*np.pi)/L)*k)\n",
    "\n",
    "# resolve EDP in Fourier space\n",
    "for j in range(0,nt-1):\n",
    "  uhat_current = u_hat[:,j]\n",
    "  uhat_current2 = u_hat2[:,j]\n",
    "  if j == 0:\n",
    "    uhat_last = u_hat[:,0]\n",
    "    uhat_last2 = u_hat2[:,0]\n",
    "  else:\n",
    "    uhat_last = u_hat[:,j-1]\n",
    "    uhat_last2 = u_hat2[:,j-1]\n",
    "  \n",
    "  # compute solution in Fourier space through a finite difference method\n",
    "  # Cranck-Nicholson + Adam \n",
    "  u_hat[:,j+1] = (1/(1 - (dt/2)*FN))*((1 + (dt/2)*FL)*uhat_current + (((3/2)*FN)*(uhat_current2) - ((1/2)*FN)*(uhat_last2))*dt)\n",
    "  # go back in real space\n",
    "  u[:,j+1] = np.real(nx*np.fft.ifft(np.fft.ifftshift(u_hat[:,j+1])))\n",
    "  u_hat2[:,j+1] = (1/nx)*np.fft.fftshift(np.fft.fft(u[:,j+1]**2))"
   ]
  },
  {
   "cell_type": "code",
   "execution_count": 5,
   "id": "1408c11c",
   "metadata": {},
   "outputs": [
    {
     "data": {
      "text/plain": [
       "Text(0.5, 1.0, 'Kuramoto-Sivashinsky: L = 200, nu = 1')"
      ]
     },
     "execution_count": 5,
     "metadata": {},
     "output_type": "execute_result"
    },
    {
     "data": {
      "image/png": "[encoded data removed]",
      "text/plain": [
       "<Figure size 360x576 with 2 Axes>"
      ]
     },
     "metadata": {
      "needs_background": "light"
     },
     "output_type": "display_data"
    }
   ],
   "source": [
    "# plot the result\n",
    "fig, ax = plt.subplots(figsize=(5,8))\n",
    "\n",
    "# xx, tt = np.meshgrid(x, t)\n",
    "# levels = np.arange(-3, 3, 0.01)\n",
    "# cs = ax.contourf(xx, tt, u.T, cmap=cm.jet)\n",
    "# fig.colorbar(cs)\n",
    "\n",
    "norm = mpl.colors.Normalize(np.amin(u), np.amax(u))\n",
    "c = ax.pcolormesh(x, t, u.T, cmap='plasma', norm=norm)\n",
    "fig.colorbar(c, ax=ax)\n",
    "\n",
    "ax.set_xlabel(\"x\")\n",
    "ax.set_ylabel(\"t\")\n",
    "ax.set_title(f'Kuramoto-Sivashinsky: L = {L}, nu = {nu}')"
   ]
  },
  {
   "cell_type": "code",
   "execution_count": 6,
   "id": "9da2bbae",
   "metadata": {},
   "outputs": [
    {
     "ename": "ValueError",
     "evalue": "Axis limits cannot be NaN or Inf",
     "output_type": "error",
     "traceback": [
      "\u001b[1;31m---------------------------------------------------------------------------\u001b[0m",
      "\u001b[1;31mValueError\u001b[0m                                Traceback (most recent call last)",
      "Input \u001b[1;32mIn [6]\u001b[0m, in \u001b[0;36m<cell line: 5>\u001b[1;34m()\u001b[0m\n\u001b[0;32m      3\u001b[0m ax2\u001b[38;5;241m.\u001b[39mset_xlim(\u001b[38;5;241m0\u001b[39m, L)\n\u001b[0;32m      4\u001b[0m d \u001b[38;5;241m=\u001b[39m (np\u001b[38;5;241m.\u001b[39mamin(u)\u001b[38;5;241m+\u001b[39mnp\u001b[38;5;241m.\u001b[39mamax(u))\u001b[38;5;241m*\u001b[39m\u001b[38;5;241m0.05\u001b[39m\n\u001b[1;32m----> 5\u001b[0m \u001b[43max2\u001b[49m\u001b[38;5;241;43m.\u001b[39;49m\u001b[43mset_ylim\u001b[49m\u001b[43m(\u001b[49m\u001b[43mnp\u001b[49m\u001b[38;5;241;43m.\u001b[39;49m\u001b[43mamin\u001b[49m\u001b[43m(\u001b[49m\u001b[43mu\u001b[49m\u001b[43m)\u001b[49m\u001b[38;5;241;43m-\u001b[39;49m\u001b[43md\u001b[49m\u001b[43m,\u001b[49m\u001b[43m \u001b[49m\u001b[43mnp\u001b[49m\u001b[38;5;241;43m.\u001b[39;49m\u001b[43mamax\u001b[49m\u001b[43m(\u001b[49m\u001b[43mu\u001b[49m\u001b[43m)\u001b[49m\u001b[38;5;241;43m-\u001b[39;49m\u001b[43md\u001b[49m\u001b[43m)\u001b[49m\n\u001b[0;32m      6\u001b[0m \u001b[38;5;66;03m# box = ax2.get_position()\u001b[39;00m\n\u001b[0;32m      7\u001b[0m \u001b[38;5;66;03m# ax2.set_position([box.x0, box.y0, box.width * 0.8, box.height])\u001b[39;00m\n\u001b[0;32m      9\u001b[0m \u001b[38;5;28;01mdef\u001b[39;00m \u001b[38;5;21manifunc\u001b[39m(frame):\n\u001b[0;32m     10\u001b[0m     \u001b[38;5;66;03m# Plot\u001b[39;00m\n",
      "File \u001b[1;32mC:\\ProgramData\\Anaconda3\\lib\\site-packages\\matplotlib\\axes\\_base.py:4018\u001b[0m, in \u001b[0;36m_AxesBase.set_ylim\u001b[1;34m(self, bottom, top, emit, auto, ymin, ymax)\u001b[0m\n\u001b[0;32m   4015\u001b[0m     top \u001b[38;5;241m=\u001b[39m ymax\n\u001b[0;32m   4017\u001b[0m \u001b[38;5;28mself\u001b[39m\u001b[38;5;241m.\u001b[39m_process_unit_info([(\u001b[38;5;124m\"\u001b[39m\u001b[38;5;124my\u001b[39m\u001b[38;5;124m\"\u001b[39m, (bottom, top))], convert\u001b[38;5;241m=\u001b[39m\u001b[38;5;28;01mFalse\u001b[39;00m)\n\u001b[1;32m-> 4018\u001b[0m bottom \u001b[38;5;241m=\u001b[39m \u001b[38;5;28;43mself\u001b[39;49m\u001b[38;5;241;43m.\u001b[39;49m\u001b[43m_validate_converted_limits\u001b[49m\u001b[43m(\u001b[49m\u001b[43mbottom\u001b[49m\u001b[43m,\u001b[49m\u001b[43m \u001b[49m\u001b[38;5;28;43mself\u001b[39;49m\u001b[38;5;241;43m.\u001b[39;49m\u001b[43mconvert_yunits\u001b[49m\u001b[43m)\u001b[49m\n\u001b[0;32m   4019\u001b[0m top \u001b[38;5;241m=\u001b[39m \u001b[38;5;28mself\u001b[39m\u001b[38;5;241m.\u001b[39m_validate_converted_limits(top, \u001b[38;5;28mself\u001b[39m\u001b[38;5;241m.\u001b[39mconvert_yunits)\n\u001b[0;32m   4021\u001b[0m \u001b[38;5;28;01mif\u001b[39;00m bottom \u001b[38;5;129;01mis\u001b[39;00m \u001b[38;5;28;01mNone\u001b[39;00m \u001b[38;5;129;01mor\u001b[39;00m top \u001b[38;5;129;01mis\u001b[39;00m \u001b[38;5;28;01mNone\u001b[39;00m:\n\u001b[0;32m   4022\u001b[0m     \u001b[38;5;66;03m# Axes init calls set_ylim(0, 1) before get_ylim() can be called,\u001b[39;00m\n\u001b[0;32m   4023\u001b[0m     \u001b[38;5;66;03m# so only grab the limits if we really need them.\u001b[39;00m\n",
      "File \u001b[1;32mC:\\ProgramData\\Anaconda3\\lib\\site-packages\\matplotlib\\axes\\_base.py:3605\u001b[0m, in \u001b[0;36m_AxesBase._validate_converted_limits\u001b[1;34m(self, limit, convert)\u001b[0m\n\u001b[0;32m   3602\u001b[0m converted_limit \u001b[38;5;241m=\u001b[39m convert(limit)\n\u001b[0;32m   3603\u001b[0m \u001b[38;5;28;01mif\u001b[39;00m (\u001b[38;5;28misinstance\u001b[39m(converted_limit, Real)\n\u001b[0;32m   3604\u001b[0m         \u001b[38;5;129;01mand\u001b[39;00m \u001b[38;5;129;01mnot\u001b[39;00m np\u001b[38;5;241m.\u001b[39misfinite(converted_limit)):\n\u001b[1;32m-> 3605\u001b[0m     \u001b[38;5;28;01mraise\u001b[39;00m \u001b[38;5;167;01mValueError\u001b[39;00m(\u001b[38;5;124m\"\u001b[39m\u001b[38;5;124mAxis limits cannot be NaN or Inf\u001b[39m\u001b[38;5;124m\"\u001b[39m)\n\u001b[0;32m   3606\u001b[0m \u001b[38;5;28;01mreturn\u001b[39;00m converted_limit\n",
      "\u001b[1;31mValueError\u001b[0m: Axis limits cannot be NaN or Inf"
     ]
    },
    {
     "data": {
      "image/png": "[encoded data removed]",
      "text/plain": [
       "<Figure size 720x540 with 1 Axes>"
      ]
     },
     "metadata": {
      "needs_background": "light"
     },
     "output_type": "display_data"
    }
   ],
   "source": [
    "# Animacao\n",
    "fig2, ax2 = plt.subplots(figsize=(4, 3), dpi=180)\n",
    "ax2.set_xlim(0, L)\n",
    "d = (np.amin(u)+np.amax(u))*0.05\n",
    "ax2.set_ylim(np.amin(u)-d, np.amax(u)-d)\n",
    "# box = ax2.get_position()\n",
    "# ax2.set_position([box.x0, box.y0, box.width * 0.8, box.height])\n",
    "\n",
    "def anifunc(frame):\n",
    "    # Plot\n",
    "    ax2.clear()\n",
    "#     ax2.fill_between(x, sw[frame]+so[frame], sw[frame], ec='#e6a122', fc='#ffd485')\n",
    "#     ax2.fill_between(x, sw[frame], ec='#156ced', fc='#85b6ff')\n",
    "    ax2.plot(x, u.T[frame], c='k')\n",
    "#     ax2.plot(x, u_vf[frame], c='k', ls='-.', alpha=0.8)\n",
    "    \n",
    "    # Ajustes do plot\n",
    "    ax2.set_xlim(0, L)\n",
    "    ax2.set_ylim(np.amin(u)-d, np.amax(u)-d)\n",
    "    ax2.set_xlabel('$x_D$')\n",
    "    ax2.set_title('$t_D$={t:.2f}'.format(t=frame/nt))\n",
    "    ax2.grid(which='both', c='k', alpha=0.8, ls=':', lw=0.6)\n",
    "    \n",
    "    # Legenda\n",
    "#     legenda = [Line2D([0], [0], color='#156ced', label='$S_{w,an}$'),\n",
    "#                Line2D([0], [0], color='#b0340b', ls='--', label='$S_{w,df}$'),\n",
    "#                Line2D([0], [0], color='k', ls='-.', label='$S_{w,vf}$')]\n",
    "#     ax2.legend(handles=legenda, loc='center left', bbox_to_anchor=(1, 0.5))\n",
    "    fig2.tight_layout()\n",
    "    return []\n",
    "\n",
    "\n",
    "ani = FuncAnimation(fig2, anifunc, frames=skipp(t, 10), interval=17)"
   ]
  },
  {
   "cell_type": "code",
   "execution_count": null,
   "id": "520621a4",
   "metadata": {},
   "outputs": [],
   "source": []
  }
 ],
 "metadata": {
  "kernelspec": {
   "display_name": "Python 3 (ipykernel)",
   "language": "python",
   "name": "python3"
  },
  "language_info": {
   "codemirror_mode": {
    "name": "ipython",
    "version": 3
   },
   "file_extension": ".py",
   "mimetype": "text/x-python",
   "name": "python",
   "nbconvert_exporter": "python",
   "pygments_lexer": "ipython3",
   "version": "3.9.7"
  }
 },
 "nbformat": 4,
 "nbformat_minor": 5
}
